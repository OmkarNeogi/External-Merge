{
 "cells": [
  {
   "cell_type": "code",
   "execution_count": 1,
   "metadata": {},
   "outputs": [
    {
     "name": "stdout",
     "output_type": "stream",
     "text": [
      "[1, 2, 3, 6, 7, 10, 13, 14, 15, 16, 17, 18, 19, 21, 26, 29, 30, 32, 33, 35, 36, 37, 39, 40, 42, 44, 45, 46, 48, 49]\n",
      "[0, 4, 5, 7, 9, 11, 14, 15, 21, 22, 24, 26, 28, 29, 32, 33, 34, 35, 36, 37, 38, 39, 40, 41, 42, 43, 44, 45, 47, 49]\n"
     ]
    }
   ],
   "source": [
    "# Create a test json and sql file. \n",
    "# Proof of concept.\n",
    "\n",
    "import random\n",
    "def get_random_in_range(range_val, number_of):\n",
    "    input_list = range(range_val)\n",
    "    return [input_list[i] for i in sorted(random.sample(range(range_val), number_of))]\n",
    "\n",
    "range_val = 50\n",
    "number_of_values = 30\n",
    "\n",
    "sql_file = get_random_in_range(range_val, number_of_values)\n",
    "json_file = get_random_in_range(range_val, number_of_values)\n",
    "\n",
    "print(sql_file)\n",
    "print(json_file)"
   ]
  },
  {
   "cell_type": "code",
   "execution_count": 10,
   "metadata": {},
   "outputs": [
    {
     "name": "stdout",
     "output_type": "stream",
     "text": [
      "json:  [0, 4, 5, 7, 9, 11, 14, 15, 21, 22, 24, 26, 28, 29, 32, 33, 34, 35, 36, 37, 38, 39, 40, 41, 42, 43, 44, 45, 47, 49]\n",
      "sql:  [1, 2, 3, 6, 7, 10, 13, 14, 15, 16, 17, 18, 19, 21, 26, 29, 30, 32, 33, 35, 36, 37, 39, 40, 42, 44, 45, 46, 48, 49]\n",
      "[0, 4, 5, 7, 9]\n",
      "[1, 2, 3, 6, 7]\n"
     ]
    }
   ],
   "source": [
    "print(\"json: \", json_file)\n",
    "print(\"sql: \", sql_file)\n",
    "\n",
    "def get_next_json(json_iter=0, step_size=5):\n",
    "    return json_file[json_iter: json_iter+step_size]\n",
    "\n",
    "def get_next_sql(sql_iter=0, step_size=5):\n",
    "    return sql_file[sql_iter: sql_iter+step_size]\n",
    "\n",
    "print(get_next_json())\n",
    "print(get_next_sql())"
   ]
  },
  {
   "cell_type": "code",
   "execution_count": 15,
   "metadata": {},
   "outputs": [],
   "source": [
    "json_file = [0, 4, 5, 7, 9, 11, 14, 15, 21, 22, 24, 26, 28, 29, 32, 33, 34, 35, 36, 37, 38, 39, 40, 41, 42, 43, 44, 45, 47, 49]\n",
    "sql_file = [1, 2, 3, 6, 7, 10, 13, 14, 15, 16, 17, 18, 19, 21, 26, 29, 30, 32, 33, 35, 36, 37, 39, 40, 42, 44, 45, 46, 48, 49]"
   ]
  },
  {
   "cell_type": "code",
   "execution_count": 24,
   "metadata": {},
   "outputs": [
    {
     "name": "stdout",
     "output_type": "stream",
     "text": [
      "intersection:  17\n",
      "left join:  13\n",
      "right join:  13\n"
     ]
    }
   ],
   "source": [
    "print('intersection: ', len(set(json_file).intersection(set(sql_file))))\n",
    "print('left join: ', len(set(json_file)-set(sql_file)))\n",
    "print('right join: ', len(set(sql_file)-set(json_file)))"
   ]
  },
  {
   "cell_type": "code",
   "execution_count": 30,
   "metadata": {},
   "outputs": [
    {
     "name": "stdout",
     "output_type": "stream",
     "text": [
      "[0, 4, 5, 7, 9] [1, 2, 3, 6, 7]\n",
      "intersection:  [(7, 7), (14, 14), (15, 15), (21, 21), (26, 26), (29, 29), (32, 32), (33, 33), (35, 35), (36, 36), (37, 37), (39, 39), (40, 40), (42, 42), (44, 44), (45, 45), (49, 49)]\n",
      "13 13 17\n"
     ]
    }
   ],
   "source": [
    "json_window = get_next_json()\n",
    "sql_window = get_next_sql()\n",
    "print(json_window, sql_window)\n",
    "\n",
    "left, right, center = 0, 0, 0\n",
    "intersection = []\n",
    "\n",
    "global_json_iter, global_sql_iter = 0, 0\n",
    "step_size = 5\n",
    "json_iter, sql_iter = 0, 0\n",
    "\n",
    "while True:\n",
    "    while json_iter < len(json_window) and sql_iter < len(sql_window):\n",
    "        if json_window[json_iter] == sql_window[sql_iter]:\n",
    "            intersection.append((json_window[json_iter], sql_window[sql_iter]))\n",
    "            center += 1\n",
    "            sql_iter += 1\n",
    "            json_iter += 1\n",
    "        elif json_window[json_iter] < sql_window[sql_iter]:\n",
    "            left += 1\n",
    "            json_iter += 1\n",
    "        elif json_window[json_iter] > sql_window[sql_iter]:\n",
    "            right += 1\n",
    "            sql_iter += 1\n",
    "            \n",
    "    if json_iter == len(json_window):\n",
    "        global_json_iter += step_size\n",
    "        json_window = get_next_json(global_json_iter, step_size)\n",
    "        json_iter = 0\n",
    "        \n",
    "    elif sql_iter == len(sql_window):\n",
    "        global_sql_iter += step_size\n",
    "        sql_window = get_next_sql(global_sql_iter, step_size)\n",
    "        sql_iter = 0\n",
    "        \n",
    "    if json_iter == 636403 or sql_iter == 637150 or not sql_window or not json_window:\n",
    "        break\n",
    "        \n",
    "print('intersection: ', intersection)\n",
    "print(left, right, center)"
   ]
  },
  {
   "cell_type": "code",
   "execution_count": 35,
   "metadata": {},
   "outputs": [
    {
     "name": "stdout",
     "output_type": "stream",
     "text": [
      "[{'id': 1, 'name': 'Eric Brooks', 'address': '7294 Nicole Motorway Phamview, PR 35990-7992', 'birthdate': '1998-03-08', 'sex': 'M', 'job': 'Veterinary surgeon', 'company': 'Hicks-Bennett', 'emd5': '0000141445c93deb94819729f172b9e3'}, {'id': 2, 'name': 'Mrs. Nicole Payne', 'address': '7491 Mitchell Centers Davisstad, MO 95858-8608', 'birthdate': '1997-03-02', 'sex': 'F', 'job': 'Hotel manager', 'company': 'Bender PLC', 'emd5': '000019ae599d24237e28e67cf6655f55'}, {'id': 3, 'name': 'Katherine Shaffer', 'address': '001 Macias Lodge Suite 314 South Summerfurt, WI 84980', 'birthdate': '1994-02-23', 'sex': 'F', 'job': 'Immigration officer', 'company': 'Diaz Ltd', 'emd5': '00001f81bfbc733f17fb6ee34fc0d24d'}, {'id': 4, 'name': 'Marie Carlson', 'address': '4036 Cisneros Mount Leonhaven, NY 49681-7671', 'birthdate': '2007-03-09', 'sex': 'F', 'job': 'Aeronautical engineer', 'company': 'Alvarado, Williams and Shah', 'emd5': '0000634857164b38b640b3032bc7ac52'}, {'id': 5, 'name': 'William Kelly', 'address': '4021 Samantha Glens East Mikechester, AL 37576-9226', 'birthdate': '1993-03-24', 'sex': 'M', 'job': 'Academic librarian', 'company': 'Jones, Craig and Bennett', 'emd5': '000083b59a7438d7e76869357114c6ce'}, {'id': 6, 'name': 'Adrian Carrillo', 'address': '83040 Collins Cliff West Derekmouth, PW 76089', 'birthdate': '2012-08-28', 'sex': 'M', 'job': 'Barrister', 'company': 'Brown PLC', 'emd5': '00008832d2a165fe33e17d974de81838'}, {'id': 7, 'name': 'Morgan Jones PhD', 'address': '592 Marilyn Junction Suite 144 South Ethanbury, KS 24710-4016', 'birthdate': '1977-12-05', 'sex': 'F', 'job': 'Customer service manager', 'company': 'Thomas-King', 'emd5': '00009778d203b198b35f236e108a6bfc'}, {'id': 8, 'name': 'Michael Young', 'address': '12229 Wright Plains Jamesmouth, NH 56124-2991', 'birthdate': '1990-10-20', 'sex': 'M', 'job': 'Clinical psychologist', 'company': 'Rose-Ballard', 'emd5': '0000a24e6e8b8f76e33f7df85ae12950'}, {'id': 9, 'name': 'Kelly Reese', 'address': 'PSC 4980, Box 0426 APO AA 57792', 'birthdate': '1987-01-08', 'sex': 'F', 'job': 'Cartographer', 'company': 'Anderson, Scott and Wood', 'emd5': '0000abbdd5509ba7ed5dec163fc798fa'}, {'id': 10, 'name': 'Eric Perez', 'address': '72890 Wilson Parkway Paulside, ME 74245-4409', 'birthdate': '1982-12-15', 'sex': 'M', 'job': 'Legal secretary', 'company': 'Howe Group', 'emd5': '0000f5fa062b45f25c8bc236dd1a5c1a'}]\n"
     ]
    }
   ],
   "source": [
    "import pymysql\n",
    "\n",
    "connection = pymysql.connect(host='data-engineer-rds.czmkgxqloose.us-east-1.rds.amazonaws.com',\n",
    "                             user='cogo_read_only',\n",
    "                             password='N&f#vSq9',\n",
    "                             db='liveworks',\n",
    "                             charset='utf8mb4',\n",
    "                             cursorclass=pymysql.cursors.DictCursor)\n",
    "\n",
    "table_name = 'cogo_list_v1'\n",
    "try:\n",
    "    with connection.cursor() as cursor:\n",
    "        cursor.execute(\"select * from {} limit 0, 10 \".format(table_name))\n",
    "        print(cursor.fetchall())\n",
    "#         while True:\n",
    "#             result = cursor.fetchone()\n",
    "#             if not result:\n",
    "#                 break\n",
    "#             print(result)\n",
    "finally:\n",
    "    connection.close()"
   ]
  },
  {
   "cell_type": "code",
   "execution_count": null,
   "metadata": {},
   "outputs": [],
   "source": []
  }
 ],
 "metadata": {
  "kernelspec": {
   "display_name": "cogo",
   "language": "python",
   "name": "cogo"
  },
  "language_info": {
   "codemirror_mode": {
    "name": "ipython",
    "version": 3
   },
   "file_extension": ".py",
   "mimetype": "text/x-python",
   "name": "python",
   "nbconvert_exporter": "python",
   "pygments_lexer": "ipython3",
   "version": "3.6.4"
  }
 },
 "nbformat": 4,
 "nbformat_minor": 2
}
